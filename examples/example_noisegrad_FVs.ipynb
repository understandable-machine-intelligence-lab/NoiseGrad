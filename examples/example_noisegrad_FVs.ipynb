{
 "nbformat": 4,
 "nbformat_minor": 0,
 "metadata": {
  "colab": {
   "name": "example-noisegrad-FVs.ipynb",
   "provenance": []
  },
  "kernelspec": {
   "name": "python3",
   "display_name": "Python 3"
  },
  "language_info": {
   "name": "python"
  },
  "accelerator": "GPU"
 },
 "cells": [
  {
   "cell_type": "markdown",
   "metadata": {
    "id": "-DUn5b778oeL"
   },
   "source": [
    "## Example NoiseGrad for Global Explanations\n",
    "\n",
    "In this notebook we show how to use NoiseGrad for Global Explanation enhancement on the example of Feature Visualisations. \n",
    "\n",
    "• **Paper:** NoiseGrad: enhancing explanations by introducingstochasticity to model weights\n",
    "• **Authors:** Kirill Bykov\\*, Anna Hedström\\*, Shinichi Nakajima, Marina M.-C. Höhne\n",
    "• **Institution:** TU Berlin, ML Department, Understandable Machine Intelligence Lab\n",
    "• **Date:** June, 2021\n",
    "\n",
    "*equal contribution"
   ]
  },
  {
   "cell_type": "code",
   "execution_count": null,
   "outputs": [],
   "source": [
    "!pip install torch_dreams seaborn"
   ],
   "metadata": {
    "collapsed": false
   }
  },
  {
   "cell_type": "code",
   "metadata": {
    "colab": {
     "base_uri": "https://localhost:8080/"
    },
    "id": "1QK8Y4ME6B4h",
    "outputId": "4daf6c94-bd05-4927-d318-c01697585448"
   },
   "source": [
    "import torch\n",
    "import torchvision\n",
    "from tqdm import tqdm\n",
    "import matplotlib.pyplot as plt\n",
    "from torch_dreams.dreamer import Dreamer\n",
    "import copy\n",
    "from torch.distributions import normal\n",
    "import seaborn as sns\n",
    "import matplotlib\n",
    "from torch_dreams.model_bunch import ModelBunch\n",
    "\n",
    "# Settings.\n",
    "matplotlib.rcParams.update({\"font.size\": 15})\n",
    "sns.set_theme(style=\"whitegrid\")\n",
    "sns.set()\n",
    "%load_ext autoreload\n",
    "%autoreload 2\n",
    "%matplotlib inline\n",
    "\n",
    "plt.style.use(\"default\")\n",
    "plt.rcParams[\"font.family\"] = \"serif\"\n",
    "plt.rcParams[\"font.size\"] = 14\n",
    "plt.rcParams[\"legend.fontsize\"] = 12\n",
    "plt.rcParams[\"xtick.direction\"] = \"in\"\n",
    "plt.rcParams[\"ytick.direction\"] = \"in\"\n",
    "plt.rcParams[\"xtick.major.size\"] = 5.0\n",
    "plt.rcParams[\"xtick.minor.size\"] = 3.0\n",
    "plt.rcParams[\"ytick.major.size\"] = 5.0\n",
    "plt.rcParams[\"ytick.minor.size\"] = 3.0\n",
    "\n",
    "CLASS_NUM = 254\n",
    "device = torch.device(\"cpu\")"
   ],
   "execution_count": 14,
   "outputs": [
    {
     "name": "stdout",
     "output_type": "stream",
     "text": [
      "The autoreload extension is already loaded. To reload it, use:\n",
      "  %reload_ext autoreload\n"
     ]
    }
   ]
  },
  {
   "cell_type": "code",
   "metadata": {
    "id": "7vhg7xNA9PJi"
   },
   "source": [
    "# load the model\n",
    "model = torchvision.models.resnet18(pretrained=True)\n",
    "posterior_mean_imgnt = copy.deepcopy(model.state_dict())"
   ],
   "execution_count": 10,
   "outputs": []
  },
  {
   "cell_type": "code",
   "metadata": {
    "colab": {
     "base_uri": "https://localhost:8080/"
    },
    "id": "7gUnUUhC8_bY",
    "outputId": "8d8ee244-2e0f-4689-af12-951f89bd00d4"
   },
   "source": [
    "# generate baseline explanations\n",
    "\n",
    "classes = [254, 130]\n",
    "baselines = []\n",
    "\n",
    "\n",
    "def make_baseline_func(layer_number=0, channel_number=0):\n",
    "    def custom_func(layer_outputs):\n",
    "        loss = layer_outputs[layer_number][channel_number].mean()\n",
    "        return -loss\n",
    "\n",
    "    return custom_func\n",
    "\n",
    "\n",
    "dreamy_boi = Dreamer(model, device=device)\n",
    "layers_to_use = [model.fc]\n",
    "\n",
    "for class_num in classes:\n",
    "    my_custom_func = make_baseline_func(layer_number=0, channel_number=class_num)\n",
    "\n",
    "    baseline_expl = dreamy_boi.render(\n",
    "        layers=layers_to_use,\n",
    "        custom_func=my_custom_func,\n",
    "        width=224,\n",
    "        height=224,\n",
    "        iters=200,\n",
    "    )\n",
    "    baselines.append(copy.deepcopy(baseline_expl))"
   ],
   "execution_count": null,
   "outputs": []
  },
  {
   "cell_type": "code",
   "metadata": {
    "colab": {
     "base_uri": "https://localhost:8080/"
    },
    "id": "I9gSPqAu62-8",
    "outputId": "6c0da4de-a7a6-4727-fd98-64b9a0029cc7"
   },
   "source": [
    "# noisegrad-enhanced explanations\n",
    "\n",
    "N_NG_INST = 100\n",
    "ng_expls = []\n",
    "models = {}\n",
    "\n",
    "d = normal.Normal(loc=1, scale=0.2)\n",
    "\n",
    "# create pertrubed copies of models\n",
    "for i in tqdm(range(N_NG_INST)):\n",
    "    model = torchvision.models.resnet18(pretrained=True)\n",
    "    with torch.no_grad():\n",
    "        for param in model.parameters():\n",
    "            param.mul_(d.sample(param.size()).to(param.device))\n",
    "        models[str(i)] = copy.deepcopy(model)\n",
    "\n",
    "\n",
    "bunch = ModelBunch(model_dict=models)\n",
    "\n",
    "\n",
    "layers_to_use = [models[mdl_key].fc for mdl_key in models.keys()]\n",
    "dreamy_boi = Dreamer(model=bunch, quiet=False, device=device)\n",
    "\n",
    "\n",
    "def custom_noisegrad_func(layer_outputs):\n",
    "    out = 0.0\n",
    "    for loss in layer_outputs:\n",
    "        out += loss[class_num]\n",
    "    return -out / len(layer_outputs)\n",
    "\n",
    "\n",
    "for class_num in classes:\n",
    "    ng_expl = dreamy_boi.render(\n",
    "        layers=layers_to_use,\n",
    "        custom_func=custom_noisegrad_func,\n",
    "        iters=200,\n",
    "        width=224,\n",
    "        height=224,\n",
    "    )\n",
    "    ng_expls.append(ng_expl)"
   ],
   "execution_count": null,
   "outputs": []
  },
  {
   "cell_type": "code",
   "metadata": {
    "colab": {
     "base_uri": "https://localhost:8080/",
     "height": 521
    },
    "id": "rdtMmpnR-Pqd",
    "outputId": "144ce647-1a75-484c-9b83-c02c79724ab2",
    "pycharm": {
     "is_executing": true
    }
   },
   "source": [
    "fig, ax = plt.subplots(2, 2, figsize=(10, 3.55 * 2))\n",
    "plt.rcParams[\"axes.grid\"] = False\n",
    "\n",
    "rows = [\"Baseline\", \"NoiseGrad\"]\n",
    "\n",
    "cols = [\"Pug\", \"Flamingo\"]\n",
    "# rows = methods\n",
    "\n",
    "for axe, col in zip(ax[-1], cols):\n",
    "    axe.set_xlabel(col)\n",
    "\n",
    "for axe, row in zip(ax[:, 0], rows):\n",
    "    axe.yaxis.set_label_position(\"left\")\n",
    "    axe.set_ylabel(row, rotation=90, size=\"large\")\n",
    "\n",
    "counter_1 = 0\n",
    "for m in range(len(classes)):\n",
    "    ax[0][m].imshow(baselines[m])\n",
    "    ax[1][m].imshow(ng_expls[m])\n",
    "\n",
    "    ax[0][m].xaxis.set_major_locator(plt.NullLocator())\n",
    "    ax[0][m].yaxis.set_major_locator(plt.NullLocator())\n",
    "\n",
    "    ax[1][m].xaxis.set_major_locator(plt.NullLocator())\n",
    "    ax[1][m].yaxis.set_major_locator(plt.NullLocator())\n",
    "\n",
    "\n",
    "plt.tight_layout()\n",
    "plt.savefig(\"ng_global.png\", dpi=200)"
   ],
   "execution_count": null,
   "outputs": []
  },
  {
   "cell_type": "code",
   "execution_count": null,
   "outputs": [],
   "source": [],
   "metadata": {
    "collapsed": false
   }
  }
 ]
}

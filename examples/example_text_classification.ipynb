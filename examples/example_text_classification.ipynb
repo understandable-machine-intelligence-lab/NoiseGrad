{
 "cells": [
  {
   "cell_type": "markdown",
   "source": [
    "## Example NoiseGrad and NoiseGrad++ text-classification\n",
    "\n",
    "With a few lines of code we show how to use NoiseGrad and NoiseGrad++ with PyTorch, as a way to enhance text-classification explanation method.\n",
    "\n",
    "• **Paper:** NoiseGrad: enhancing explanations by introducing stochasticity to model weights\n",
    "• **Author:** Artem Sereda\n",
    "• **Institution:** TU Berlin, ML Department, Understandable Machine Intelligence Lab\n",
    "• **Date:** February, 2023\n"
   ],
   "metadata": {
    "collapsed": false
   }
  },
  {
   "cell_type": "code",
   "execution_count": 25,
   "outputs": [
    {
     "name": "stdout",
     "output_type": "stream",
     "text": [
      "The autoreload extension is already loaded. To reload it, use:\n",
      "  %reload_ext autoreload\n"
     ]
    }
   ],
   "source": [
    "import torch\n",
    "from datasets import load_dataset\n",
    "from transformers import AutoModelForSequenceClassification, AutoTokenizer\n",
    "from noisegrad import NoiseGrad, NoiseGradPlusPlus, text_classification\n",
    "from functools import partial\n",
    "\n",
    "device = torch.device(\"cpu\")"
   ],
   "metadata": {
    "collapsed": false,
    "ExecuteTime": {
     "start_time": "2023-04-08T00:11:25.503975Z",
     "end_time": "2023-04-08T00:11:25.698516Z"
    }
   }
  },
  {
   "cell_type": "markdown",
   "source": [
    "### Step 1. Load data and model"
   ],
   "metadata": {
    "collapsed": false,
    "ExecuteTime": {
     "start_time": "2023-04-08T00:11:25.740267Z",
     "end_time": "2023-04-08T00:11:25.762056Z"
    }
   },
   "outputs": [
    {
     "data": {
      "text/plain": "device(type='mps')"
     },
     "execution_count": 26,
     "metadata": {},
     "output_type": "execute_result"
    }
   ],
   "execution_count": 26
  },
  {
   "cell_type": "code",
   "execution_count": null,
   "outputs": [],
   "source": [
    "x_batch = [load_dataset(\"sst2\")[\"test\"][\"sentence\"][2]]\n",
    "x_batch"
   ],
   "metadata": {
    "collapsed": false
   }
  },
  {
   "cell_type": "code",
   "execution_count": 27,
   "outputs": [
    {
     "name": "stderr",
     "output_type": "stream",
     "text": [
      "Found cached dataset sst2 (/Users/artemsereda/.cache/huggingface/datasets/sst2/default/2.0.0/9896208a8d85db057ac50c72282bcb8fe755accc671a57dd8059d4e130961ed5)\n"
     ]
    },
    {
     "data": {
      "text/plain": "  0%|          | 0/3 [00:00<?, ?it/s]",
      "application/vnd.jupyter.widget-view+json": {
       "version_major": 2,
       "version_minor": 0,
       "model_id": "e4ced3fe32ef4733ae42bb3ada29f090"
      }
     },
     "metadata": {},
     "output_type": "display_data"
    },
    {
     "data": {
      "text/plain": "['by the end of no such thing the audience , like beatrice , has a watchful affection for the monster .']"
     },
     "execution_count": 27,
     "metadata": {},
     "output_type": "execute_result"
    }
   ],
   "source": [
    "tokenizer = AutoTokenizer.from_pretrained(\n",
    "    \"distilbert-base-uncased-finetuned-sst-2-english\"\n",
    ")\n",
    "model = AutoModelForSequenceClassification.from_pretrained(\n",
    "    \"distilbert-base-uncased-finetuned-sst-2-english\"\n",
    ")"
   ],
   "metadata": {
    "collapsed": false,
    "ExecuteTime": {
     "start_time": "2023-04-08T00:11:26.121393Z",
     "end_time": "2023-04-08T00:11:27.512804Z"
    }
   }
  },
  {
   "cell_type": "code",
   "execution_count": 28,
   "outputs": [],
   "source": [
    "input_ids = tokenizer(x_batch, return_tensors=\"pt\")[\"input_ids\"]"
   ],
   "metadata": {
    "collapsed": false,
    "ExecuteTime": {
     "start_time": "2023-04-08T00:11:27.513677Z",
     "end_time": "2023-04-08T00:11:28.374029Z"
    }
   }
  },
  {
   "cell_type": "code",
   "execution_count": 29,
   "outputs": [],
   "source": [
    "tokens = tokenizer.convert_ids_to_tokens(input_ids.numpy().tolist()[0])"
   ],
   "metadata": {
    "collapsed": false,
    "ExecuteTime": {
     "start_time": "2023-04-08T00:11:28.374083Z",
     "end_time": "2023-04-08T00:11:28.397731Z"
    }
   }
  },
  {
   "cell_type": "code",
   "execution_count": 30,
   "outputs": [],
   "source": [
    "y_batch = model(input_ids).logits.detach().argmax(axis=-1)"
   ],
   "metadata": {
    "collapsed": false,
    "ExecuteTime": {
     "start_time": "2023-04-08T00:11:28.397378Z",
     "end_time": "2023-04-08T00:11:28.421338Z"
    }
   }
  },
  {
   "cell_type": "code",
   "execution_count": 31,
   "outputs": [],
   "source": [
    "def embedding_lookup(input_ids):\n",
    "    seq_length = input_ids.size(1)\n",
    "    position_ids = torch.arange(seq_length, dtype=torch.int64, device=input_ids.device)\n",
    "    position_ids = position_ids.unsqueeze(0).expand_as(input_ids)\n",
    "    word_embeddings = model.get_input_embeddings()(input_ids)\n",
    "    position_embeddings = model.get_position_embeddings()(position_ids)\n",
    "    return word_embeddings + position_embeddings\n",
    "\n",
    "\n",
    "x_batch_embeddings = embedding_lookup(input_ids)"
   ],
   "metadata": {
    "collapsed": false,
    "ExecuteTime": {
     "start_time": "2023-04-08T00:11:28.420244Z",
     "end_time": "2023-04-08T00:11:28.473784Z"
    }
   }
  },
  {
   "cell_type": "markdown",
   "source": [
    "### Step 2. Initialize methods"
   ],
   "metadata": {
    "collapsed": false,
    "ExecuteTime": {
     "start_time": "2023-04-08T00:11:28.469999Z",
     "end_time": "2023-04-08T00:11:28.493859Z"
    }
   },
   "execution_count": 32,
   "outputs": []
  },
  {
   "cell_type": "code",
   "execution_count": null,
   "outputs": [],
   "source": [
    "ng = NoiseGrad()\n",
    "ng_pp = NoiseGradPlusPlus()"
   ],
   "metadata": {
    "collapsed": false
   }
  },
  {
   "cell_type": "markdown",
   "source": [
    "### Step 3. Get explanations"
   ],
   "metadata": {
    "collapsed": false,
    "ExecuteTime": {
     "start_time": "2023-04-08T00:11:28.494438Z",
     "end_time": "2023-04-08T00:11:28.521494Z"
    }
   },
   "outputs": [],
   "execution_count": 33
  },
  {
   "cell_type": "code",
   "execution_count": null,
   "outputs": [],
   "source": [
    "baseline_scores = text_classification.explain_gradient_x_input(\n",
    "    model, x_batch_embeddings, y_batch, attention_mask=None\n",
    ").numpy()"
   ],
   "metadata": {
    "collapsed": false
   }
  },
  {
   "cell_type": "code",
   "execution_count": 34,
   "outputs": [],
   "source": [
    "ng_scores = ng.enhance_explanation(\n",
    "    model,\n",
    "    x_batch_embeddings,\n",
    "    y_batch,\n",
    "    explanation_fn=partial(\n",
    "        text_classification.explain_gradient_x_input, attention_mask=None\n",
    "    ),\n",
    ").numpy()"
   ],
   "metadata": {
    "collapsed": false,
    "ExecuteTime": {
     "start_time": "2023-04-08T00:11:28.517476Z",
     "end_time": "2023-04-08T00:11:28.582869Z"
    }
   }
  },
  {
   "cell_type": "code",
   "execution_count": 35,
   "outputs": [
    {
     "data": {
      "text/plain": "NoiseGrad:   0%|          | 0/10 [00:00<?, ?it/s]",
      "application/vnd.jupyter.widget-view+json": {
       "version_major": 2,
       "version_minor": 0,
       "model_id": "d94f167eb5754e218248b879d9080b30"
      }
     },
     "metadata": {},
     "output_type": "display_data"
    }
   ],
   "source": [
    "ng_pp_scores = ng_pp.enhance_explanation(\n",
    "    model,\n",
    "    x_batch_embeddings,\n",
    "    y_batch,\n",
    "    explanation_fn=partial(\n",
    "        text_classification.explain_gradient_x_input, attention_mask=None\n",
    "    ),\n",
    ").numpy()"
   ],
   "metadata": {
    "collapsed": false,
    "ExecuteTime": {
     "start_time": "2023-04-08T00:11:28.582786Z",
     "end_time": "2023-04-08T00:11:36.953077Z"
    }
   }
  },
  {
   "cell_type": "markdown",
   "source": [
    "### Step 4. Visualize explanations"
   ],
   "metadata": {
    "collapsed": false,
    "ExecuteTime": {
     "start_time": "2023-04-08T00:11:36.955741Z",
     "end_time": "2023-04-08T00:11:49.316812Z"
    }
   },
   "outputs": [
    {
     "data": {
      "text/plain": "NoiseGrad++:   0%|          | 0/100 [00:00<?, ?it/s]",
      "application/vnd.jupyter.widget-view+json": {
       "version_major": 2,
       "version_minor": 0,
       "model_id": "2aa639a026784ad9a1b63bc07d5d6200"
      }
     },
     "metadata": {},
     "output_type": "display_data"
    }
   ],
   "execution_count": 36
  },
  {
   "cell_type": "code",
   "execution_count": 37,
   "outputs": [
    {
     "data": {
      "text/plain": "<Figure size 1800x375 with 144 Axes>",
      "image/png": "[encoded data removed]"
     },
     "metadata": {},
     "output_type": "display_data"
    }
   ],
   "source": [
    "text_classification.visualise_explanations(\n",
    "    [\n",
    "        (tokens, baseline_scores[0]),\n",
    "        (tokens, ng_scores[0]),\n",
    "        (tokens, ng_pp_scores[0]),\n",
    "    ],\n",
    "    labels=[\"Baseline\", \"NoiseGrad\", \"NoiseGrad++\"],\n",
    ")\n",
    "plt.show()"
   ],
   "metadata": {
    "collapsed": false,
    "ExecuteTime": {
     "start_time": "2023-04-08T00:11:49.320579Z",
     "end_time": "2023-04-08T00:11:52.161349Z"
    }
   }
  },
  {
   "cell_type": "code",
   "execution_count": null,
   "outputs": [],
   "source": [],
   "metadata": {
    "collapsed": false
   }
  }
 ],
 "metadata": {
  "kernelspec": {
   "display_name": "Python 3",
   "language": "python",
   "name": "python3"
  },
  "language_info": {
   "codemirror_mode": {
    "name": "ipython",
    "version": 2
   },
   "file_extension": ".py",
   "mimetype": "text/x-python",
   "name": "python",
   "nbconvert_exporter": "python",
   "pygments_lexer": "ipython2",
   "version": "2.7.6"
  }
 },
 "nbformat": 4,
 "nbformat_minor": 0
}
